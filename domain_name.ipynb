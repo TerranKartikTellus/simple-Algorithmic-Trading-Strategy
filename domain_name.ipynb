{
 "cells": [
  {
   "cell_type": "code",
   "execution_count": 44,
   "metadata": {},
   "outputs": [],
   "source": [
    "data = {\n",
    "  'https://www.abc.com/random.html': 'abc.com', \n",
    "  'http://www.abc.com/random.html' : 'abc.com',\n",
    "  'http://www.abc.com/hello/random.html' : 'abc.com',\n",
    "  'www.abc.com' : 'abc.com', \n",
    "  'http://abc.com': 'abc.com'\n",
    "}\n",
    "\n",
    "\n",
    "def get_domain(input):\n",
    "  at = 0\n",
    "  arr = input.split('/')\n",
    "\n",
    "  for index,i in enumerate(arr):\n",
    "    if 'com' in i:\n",
    "      at = index\n",
    "      break\n",
    "\n",
    "  if 'www.' in arr[at]:\n",
    "    arr[at] = arr[at].replace('www.','')\n",
    "  return arr[at]"
   ]
  },
  {
   "cell_type": "code",
   "execution_count": 47,
   "metadata": {},
   "outputs": [
    {
     "name": "stdout",
     "output_type": "stream",
     "text": [
      "Input: https://www.abc.com/random.html \t| Processed Domain name: abc.com \t| Expected Domain: abc.com \t| Test Pass? True\n",
      "Input: http://www.abc.com/random.html \t| Processed Domain name: abc.com \t| Expected Domain: abc.com \t| Test Pass? True\n",
      "Input: http://www.abc.com/hello/random.html \t| Processed Domain name: abc.com \t| Expected Domain: abc.com \t| Test Pass? True\n",
      "Input: www.abc.com \t| Processed Domain name: abc.com \t| Expected Domain: abc.com \t| Test Pass? True\n",
      "Input: http://abc.com \t| Processed Domain name: abc.com \t| Expected Domain: abc.com \t| Test Pass? True\n"
     ]
    }
   ],
   "source": [
    "for i in data:\n",
    "  input = i\n",
    "  expected_output = data[i]\n",
    "  domain = get_domain(input)\n",
    "  if expected_output == domain:\n",
    "    print(f'Input: {input} \\t| Processed Domain name: {domain} \\t| Expected Domain: {expected_output} \\t| Test Pass? {True}')\n",
    "  else:\n",
    "    print(f'Input: {input} \\t| Processed Domain name: {domain} \\t| Expected Domain: {expected_output} \\t| Test Pass? {False}')\n"
   ]
  },
  {
   "cell_type": "code",
   "execution_count": null,
   "metadata": {},
   "outputs": [],
   "source": []
  }
 ],
 "metadata": {
  "kernelspec": {
   "display_name": "Python 3",
   "language": "python",
   "name": "python3"
  },
  "language_info": {
   "codemirror_mode": {
    "name": "ipython",
    "version": 3
   },
   "file_extension": ".py",
   "mimetype": "text/x-python",
   "name": "python",
   "nbconvert_exporter": "python",
   "pygments_lexer": "ipython3",
   "version": "3.10.8"
  },
  "orig_nbformat": 4,
  "vscode": {
   "interpreter": {
    "hash": "369f2c481f4da34e4445cda3fffd2e751bd1c4d706f27375911949ba6bb62e1c"
   }
  }
 },
 "nbformat": 4,
 "nbformat_minor": 2
}
