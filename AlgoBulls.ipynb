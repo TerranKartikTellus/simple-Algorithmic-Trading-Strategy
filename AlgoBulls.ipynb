{
 "cells": [
  {
   "cell_type": "code",
   "execution_count": 27,
   "metadata": {},
   "outputs": [],
   "source": [
    "import requests\n",
    "import pandas as pd\n",
    "\n",
    "api_key = 'YF0US57AOZXKGIGD'\n",
    "\n"
   ]
  },
  {
   "cell_type": "code",
   "execution_count": 28,
   "metadata": {},
   "outputs": [],
   "source": [
    "class script_data:\n",
    "    def __init__(self, symbol):\n",
    "        self.symbol = symbol\n",
    "        # self.interval = interval\n",
    "        self.url = f'https://www.alphavantage.co/query?function=TIME_SERIES_INTRADAY&symbol={symbol}&apikey={api_key}'\n",
    "\n",
    "    def fetch_intraday_data(self):\n",
    "        response = requests.get(self.url)\n",
    "        if response.status_code == 200:\n",
    "            return response.json()\n",
    "        else:\n",
    "            raise Exception(\n",
    "                f\"Failed to fetch data. Response code: {response.status_code}\")\n",
    "    \n",
    "    def convert_intraday_data(self, script):\n",
    "        data = {}\n",
    "        data[\"timestamp\"] = []\n",
    "        data[\"open\"] = []\n",
    "        data[\"high\"] = []\n",
    "        data[\"low\"] = []\n",
    "        data[\"close\"] = []\n",
    "        data[\"volume\"] = []\n",
    "\n",
    "        for key, value in script.items():\n",
    "            if key.startswith(\"Time Series\"):\n",
    "                for timestamp, prices in value.items():\n",
    "                    data[\"timestamp\"].append(pd.Timestamp(timestamp))\n",
    "                    data[\"open\"].append(float(prices[\"1. open\"]))\n",
    "                    data[\"high\"].append(float(prices[\"2. high\"]))\n",
    "                    data[\"low\"].append(float(prices[\"3. low\"]))\n",
    "                    data[\"close\"].append(float(prices[\"4. close\"]))\n",
    "                    data[\"volume\"].append(int(prices[\"5. volume\"]))\n",
    "\n",
    "        df = pd.DataFrame(data)\n",
    "        df.set_index(\"timestamp\", inplace=True)\n",
    "\n",
    "        return df\n",
    "    \n",
    "    def __getitem__(self, item):\n",
    "        return self.df[item]\n",
    "    \n",
    "    def __setitem__(self, key, value):\n",
    "        self.df[key] = value\n",
    "    \n",
    "    def __contains__(self, item):\n",
    "        return item in self.df.columns\n",
    "        \n"
   ]
  },
  {
   "cell_type": "code",
   "execution_count": 29,
   "metadata": {},
   "outputs": [
    {
     "name": "stdout",
     "output_type": "stream",
     "text": [
      "False\n",
      "True\n",
      "Series([], Name: open, dtype: float64)\n",
      "True\n"
     ]
    }
   ],
   "source": [
    "sd = script_data(symbol=\"GOOGL\")\n",
    "data = sd.fetch_intraday_data()\n",
    "\n",
    "df = sd.convert_intraday_data(data)\n",
    "\n",
    "# print(df)\n",
    "sd.df = df\n",
    "\n",
    "print(\"timestamp\" in sd)  # Output: True\n",
    "print(\"open\" in sd)  # Output: True\n",
    "print(sd[\"open\"])  # Output: pandas.Series\n",
    "sd[\"new_column\"] = [0] * len(df)\n",
    "print(\"new_column\" in sd)  # Output: True\n"
   ]
  },
  {
   "cell_type": "code",
   "execution_count": null,
   "metadata": {},
   "outputs": [],
   "source": []
  }
 ],
 "metadata": {
  "kernelspec": {
   "display_name": "Python 3",
   "language": "python",
   "name": "python3"
  },
  "language_info": {
   "codemirror_mode": {
    "name": "ipython",
    "version": 3
   },
   "file_extension": ".py",
   "mimetype": "text/x-python",
   "name": "python",
   "nbconvert_exporter": "python",
   "pygments_lexer": "ipython3",
   "version": "3.10.8"
  },
  "orig_nbformat": 4,
  "vscode": {
   "interpreter": {
    "hash": "369f2c481f4da34e4445cda3fffd2e751bd1c4d706f27375911949ba6bb62e1c"
   }
  }
 },
 "nbformat": 4,
 "nbformat_minor": 2
}
