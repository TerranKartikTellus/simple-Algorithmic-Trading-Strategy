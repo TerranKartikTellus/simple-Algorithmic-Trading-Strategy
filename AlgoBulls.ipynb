{
 "cells": [
  {
   "cell_type": "code",
   "execution_count": 352,
   "metadata": {},
   "outputs": [],
   "source": [
    "import requests\n",
    "import pandas as pd\n",
    "\n",
    "api_key = 'YF0US57AOZXKGIGD'\n",
    "\n"
   ]
  },
  {
   "cell_type": "code",
   "execution_count": 353,
   "metadata": {},
   "outputs": [],
   "source": [
    "class script_data:\n",
    "    def __init__(self, symbol):\n",
    "        self.symbol = symbol\n",
    "        # self.interval = interval\n",
    "        self.url = f'https://www.alphavantage.co/query?function=TIME_SERIES_INTRADAY&symbol={symbol}&interval=5min&apikey={api_key}'\n",
    "\n",
    "    def fetch_intraday_data(self):\n",
    "        response = requests.get(self.url)\n",
    "        if response.status_code == 200:\n",
    "            d = response.json()\n",
    "            del d['Meta Data']\n",
    "            return d\n",
    "        else:\n",
    "            raise Exception(\n",
    "                f\"Failed to fetch data. Response code: {response.status_code}\")\n",
    "    \n",
    "    def convert_intraday_data(self, script):\n",
    "        data = {}\n",
    "        data[\"timestamp\"] = []\n",
    "        data[\"open\"] = []\n",
    "        data[\"high\"] = []\n",
    "        data[\"low\"] = []\n",
    "        data[\"close\"] = []\n",
    "        data[\"volume\"] = []\n",
    "        index = 1\n",
    "        for key, value in script.items():\n",
    "            if key.startswith('Time Series (5min)'):\n",
    "                for key, prices in value.items():\n",
    "                    data[\"timestamp\"].append(str(key))\n",
    "                    data[\"open\"].append(float(prices[\"1. open\"]))\n",
    "                    data[\"high\"].append(float(prices[\"2. high\"]))\n",
    "                    data[\"low\"].append(float(prices[\"3. low\"]))\n",
    "                    data[\"close\"].append(float(prices[\"4. close\"]))\n",
    "                    data[\"volume\"].append(int(prices[\"5. volume\"]))\n",
    "        df = pd.DataFrame(data)\n",
    "        return df\n",
    "    \n",
    "    def __getitem__(self, item):\n",
    "        return self.df[item]\n",
    "    \n",
    "    def __setitem__(self, key, value):\n",
    "        self.df[key] = value\n",
    "    \n",
    "    def __contains__(self, item):\n",
    "        return item in self.df.columns\n",
    "\n",
    "    def indicator1(df, timeperiod):\n",
    "        result = df.copy()\n",
    "        result[\"indicator\"] = result[\"close\"].rolling(window=timeperiod).mean()\n",
    "        return result[[\"timestamp\", \"indicator\"]]\n",
    "\n",
    "        \n",
    "class Strategy(script_data):\n",
    "    def __init__(self, script):\n",
    "        self.script = script\n",
    "        self.df = None\n",
    "        self.indicator_data = None\n",
    "        # self.script_data = script_data(\"GOOGL\")\n",
    "        self.url = f'https://www.alphavantage.co/query?function=TIME_SERIES_INTRADAY&symbol={script}&interval=5min&apikey={api_key}'\n",
    "\n",
    "    def indicator2(df, timeperiod):\n",
    "        result = df.copy()\n",
    "        result[\"indicator_data\"] = result[\"close__data\"].rolling(window=timeperiod).mean()\n",
    "        return result[[\"timestamp\", \"indicator_data\"]]\n",
    "\n",
    "    \n",
    "    # def get_script_data():\n",
    "    #     data = sd.fetch_intraday_data()\n",
    "    #     self.df = script_data.convert_intraday_data(data)\n",
    "    #     result = indicator1(self.df, timeperiod=5)\n",
    "    #     return result\n",
    "        \n",
    "    # def get_signal(script):\n",
    "    #     data = {}\n",
    "    #     data[\"timestamp\"] = []\n",
    "    #     data[\"signal\"] = []\n",
    "    #     for key, value in script.items():\n",
    "    #         if key.startswith('Time Series (5min)'):\n",
    "    #             for key, prices in value.items():\n",
    "    #                 data[\"timestamp\"].append(str(key))\n",
    "\n",
    "    #                 data[\"signal\"].append(int(prices[\"5. volume\"]))\n",
    "    #     df = pd.DataFrame(data)\n",
    "    #     return df\n",
    "\n",
    "\n",
    "        \n"
   ]
  },
  {
   "cell_type": "code",
   "execution_count": 354,
   "metadata": {},
   "outputs": [],
   "source": [
    "sd = script_data(symbol=\"GOOGL\")\n",
    "data = sd.fetch_intraday_data()\n",
    "# print(data)\n",
    "\n",
    "\n"
   ]
  },
  {
   "cell_type": "code",
   "execution_count": 355,
   "metadata": {},
   "outputs": [
    {
     "name": "stdout",
     "output_type": "stream",
     "text": [
      "              timestamp     open   high    low    close  volume\n",
      "0   2023-02-13 20:00:00  94.3500  94.40  94.28  94.4000   13261\n",
      "1   2023-02-13 19:55:00  94.3500  94.40  94.35  94.3500    6407\n",
      "2   2023-02-13 19:50:00  94.2800  94.39  94.28  94.3500    2081\n",
      "3   2023-02-13 19:45:00  94.4200  94.44  94.29  94.2900    2133\n",
      "4   2023-02-13 19:40:00  94.4700  94.47  94.35  94.3500     917\n",
      "..                  ...      ...    ...    ...      ...     ...\n",
      "95  2023-02-13 12:05:00  94.2900  94.31  94.22  94.2900  398928\n",
      "96  2023-02-13 12:00:00  94.2701  94.31  94.24  94.3000  467125\n",
      "97  2023-02-13 11:55:00  94.2500  94.30  94.12  94.2725  553289\n",
      "98  2023-02-13 11:50:00  94.3064  94.36  94.23  94.2500  503563\n",
      "99  2023-02-13 11:45:00  94.0300  94.41  94.02  94.3021  611545\n",
      "\n",
      "[100 rows x 6 columns]\n"
     ]
    }
   ],
   "source": [
    "df = sd.convert_intraday_data(data)\n",
    "print(df)\n"
   ]
  },
  {
   "cell_type": "code",
   "execution_count": 356,
   "metadata": {},
   "outputs": [
    {
     "name": "stdout",
     "output_type": "stream",
     "text": [
      "True\n"
     ]
    }
   ],
   "source": [
    "sd.df = df\n",
    "print(\"open\" in sd)\n"
   ]
  },
  {
   "cell_type": "code",
   "execution_count": 357,
   "metadata": {},
   "outputs": [
    {
     "name": "stdout",
     "output_type": "stream",
     "text": [
      "              timestamp  indicator\n",
      "0   2023-02-13 20:00:00        NaN\n",
      "1   2023-02-13 19:55:00        NaN\n",
      "2   2023-02-13 19:50:00        NaN\n",
      "3   2023-02-13 19:45:00        NaN\n",
      "4   2023-02-13 19:40:00   94.34800\n",
      "..                  ...        ...\n",
      "95  2023-02-13 12:05:00   94.37956\n",
      "96  2023-02-13 12:00:00   94.34656\n",
      "97  2023-02-13 11:55:00   94.31106\n",
      "98  2023-02-13 11:50:00   94.28206\n",
      "99  2023-02-13 11:45:00   94.28292\n",
      "\n",
      "[100 rows x 2 columns]\n"
     ]
    }
   ],
   "source": [
    "result = indicator1(df, timeperiod=5)\n",
    "print(result)"
   ]
  },
  {
   "cell_type": "code",
   "execution_count": 358,
   "metadata": {},
   "outputs": [
    {
     "name": "stdout",
     "output_type": "stream",
     "text": [
      "              timestamp     open   high    low  close_data  volume\n",
      "0   2023-02-13 20:00:00  94.3500  94.40  94.28     94.4000   13261\n",
      "1   2023-02-13 19:55:00  94.3500  94.40  94.35     94.3500    6407\n",
      "2   2023-02-13 19:50:00  94.2800  94.39  94.28     94.3500    2081\n",
      "3   2023-02-13 19:45:00  94.4200  94.44  94.29     94.2900    2133\n",
      "4   2023-02-13 19:40:00  94.4700  94.47  94.35     94.3500     917\n",
      "..                  ...      ...    ...    ...         ...     ...\n",
      "95  2023-02-13 12:05:00  94.2900  94.31  94.22     94.2900  398928\n",
      "96  2023-02-13 12:00:00  94.2701  94.31  94.24     94.3000  467125\n",
      "97  2023-02-13 11:55:00  94.2500  94.30  94.12     94.2725  553289\n",
      "98  2023-02-13 11:50:00  94.3064  94.36  94.23     94.2500  503563\n",
      "99  2023-02-13 11:45:00  94.0300  94.41  94.02     94.3021  611545\n",
      "\n",
      "[100 rows x 6 columns]\n"
     ]
    }
   ],
   "source": [
    "st = Strategy(\"GOOGL\")\n",
    "data1 = st.fetch_intraday_data()\n",
    "df1 = st.convert_intraday_data(data1)\n",
    "df1 = df.rename(columns={'close': 'close_data'})\n",
    "print(df1)\n"
   ]
  },
  {
   "cell_type": "code",
   "execution_count": 360,
   "metadata": {},
   "outputs": [
    {
     "ename": "TypeError",
     "evalue": "Strategy.indicator2() got multiple values for argument 'timeperiod'",
     "output_type": "error",
     "traceback": [
      "\u001b[1;31m---------------------------------------------------------------------------\u001b[0m",
      "\u001b[1;31mTypeError\u001b[0m                                 Traceback (most recent call last)",
      "Cell \u001b[1;32mIn [360], line 1\u001b[0m\n\u001b[1;32m----> 1\u001b[0m result1 \u001b[39m=\u001b[39m st\u001b[39m.\u001b[39;49mindicator2(df1, timeperiod\u001b[39m=\u001b[39;49m\u001b[39m5\u001b[39;49m)\n\u001b[0;32m      2\u001b[0m \u001b[39mprint\u001b[39m(result1)\n",
      "\u001b[1;31mTypeError\u001b[0m: Strategy.indicator2() got multiple values for argument 'timeperiod'"
     ]
    }
   ],
   "source": [
    "result1 = st.indicator2(df1, timeperiod=5)\n",
    "print(result1)\n"
   ]
  },
  {
   "cell_type": "code",
   "execution_count": null,
   "metadata": {},
   "outputs": [],
   "source": []
  }
 ],
 "metadata": {
  "kernelspec": {
   "display_name": "Python 3",
   "language": "python",
   "name": "python3"
  },
  "language_info": {
   "codemirror_mode": {
    "name": "ipython",
    "version": 3
   },
   "file_extension": ".py",
   "mimetype": "text/x-python",
   "name": "python",
   "nbconvert_exporter": "python",
   "pygments_lexer": "ipython3",
   "version": "3.10.8"
  },
  "orig_nbformat": 4,
  "vscode": {
   "interpreter": {
    "hash": "369f2c481f4da34e4445cda3fffd2e751bd1c4d706f27375911949ba6bb62e1c"
   }
  }
 },
 "nbformat": 4,
 "nbformat_minor": 2
}
